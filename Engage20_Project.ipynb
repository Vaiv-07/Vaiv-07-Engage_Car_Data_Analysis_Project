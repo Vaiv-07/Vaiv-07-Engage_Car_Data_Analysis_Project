{
 "cells": [
  {
   "cell_type": "code",
   "execution_count": null,
   "id": "7f09a9ae",
   "metadata": {},
   "outputs": [],
   "source": [
    "# Importing Libraries\n",
    "import numpy as np\n",
    "#importing pandas for analysis\n",
    "import pandas as pd\n",
    "# importing matplotlib and seaborn for visualization\n",
    "import matplotlib.pyplot as plt\n",
    "import seaborn as sns\n",
    "%matplotlib inline"
   ]
  },
  {
   "cell_type": "code",
   "execution_count": null,
   "id": "5890ce94",
   "metadata": {},
   "outputs": [],
   "source": [
    "# Calling Dataset for Analysis\n",
    "cars_df = pd.read_csv('cars_engage_2022.csv')"
   ]
  },
  {
   "cell_type": "code",
   "execution_count": null,
   "id": "399614f7",
   "metadata": {},
   "outputs": [],
   "source": [
    "#Cleaning up Dataset\n",
    "Essential_Features = ['Make','Model','Variant','Ex_Showroom_Price','Body_Type','Fuel_Type','Fuel_Tank_Capacity','Power',\n",
    "                      'Torque','Fuel_System','Displacement','ARAI_Certified_Mileage','Highway_Mileage','City_Mileage',\n",
    "                      'ARAI_Certified_Mileage_for_CNG','Seating_Capacity','Gears','Type','Cylinders','Valves_Per_Cylinder',\n",
    "                      'Cylinder_Configuration','Drivetrain','Cylinders','Drivetrain','Front_Brakes','Rear_Brakes','Length',\n",
    "                      'Width','Height','Doors','Wheelbase','Basic_Warranty','Boot_Space','Number_of_Airbags']\n",
    "cars_df = cars_df[Essential_Features]"
   ]
  },
  {
   "cell_type": "code",
   "execution_count": null,
   "id": "68ebee79",
   "metadata": {},
   "outputs": [],
   "source": [
    "sns.set_style(\"darkgrid\")"
   ]
  },
  {
   "cell_type": "code",
   "execution_count": null,
   "id": "d1d88af8",
   "metadata": {},
   "outputs": [],
   "source": [
    "#Converting data type of price from string to integer\n",
    "cars_df['Ex_Showroom_Price'] = cars_df['Ex_Showroom_Price'].str.replace('Rs. ','',regex=False)\n",
    "cars_df['Ex_Showroom_Price'] = cars_df['Ex_Showroom_Price'].str.replace(',','',regex=False)\n",
    "cars_df['Ex_Showroom_Price'] = cars_df['Ex_Showroom_Price'].astype(int)"
   ]
  },
  {
   "cell_type": "code",
   "execution_count": null,
   "id": "1df8ff39",
   "metadata": {},
   "outputs": [],
   "source": [
    "# Creating data frame for cars having price below 12L\n",
    "\n",
    "low_range_df = cars_df[cars_df.Ex_Showroom_Price < 1200000]\n",
    "\n",
    "# Creating data frame for cars having price between 12L to 40L\n",
    "\n",
    "numbers = range(1200000, 4000000)\n",
    "mid_range_df = cars_df[cars_df[\"Ex_Showroom_Price\"].isin(numbers)]\n",
    "\n",
    "# Creating data frame for cars having price between 40L to 1Cr\n",
    "\n",
    "numbers = range(4000000, 10000000)\n",
    "premium_range_df = cars_df[cars_df[\"Ex_Showroom_Price\"].isin(numbers)]\n",
    "\n",
    "# Creating data frame for cars having price above 1Cr\n",
    "\n",
    "luxury_df = cars_df[cars_df.Ex_Showroom_Price > 10000000]"
   ]
  },
  {
   "cell_type": "code",
   "execution_count": null,
   "id": "4188329e",
   "metadata": {},
   "outputs": [],
   "source": [
    "# Defining a fuction which plot different charts and takes dataframe as input argument\n",
    "\n",
    "def charts (df1):\n",
    "    #Car type v/s counts\n",
    "    plt.figure(figsize=(15,10))\n",
    "    plt.title('Type of Car v/s Numbers of Cars',fontsize=20)\n",
    "    sns.countplot(x=df1['Body_Type'], data=df1)\n",
    "    plt.xticks(fontsize=15, rotation=45)\n",
    "    plt.yticks(fontsize=15)\n",
    "    plt.xlabel(\"Type of Cars\", size=15)\n",
    "    plt.ylabel(\"Count\", size=15);\n",
    "    \n",
    "    #Fuel type v/s Count\n",
    "    plt.figure(figsize=(15,10))\n",
    "    plt.title('Engine Fuel type v/s Cars Count',fontsize=20)\n",
    "    sns.countplot( x=df1['Fuel_Type'], data = df1)\n",
    "    plt.xticks(fontsize=15)\n",
    "    plt.yticks(fontsize=15)\n",
    "    plt.xlabel('Fuel Type', fontsize=15)\n",
    "    plt.ylabel('Cars Count', fontsize=15);\n",
    "    \n",
    "    #Displacement v/s Count\n",
    "    \n",
    "    #sorting displacement column\n",
    "    df2 = df1.sort_values('Displacement', ascending=True)\n",
    "    \n",
    "    plt.figure(figsize=(35,10))\n",
    "    plt.title('Displacement v/s Cars Count', fontsize=20)\n",
    "    sns.histplot(data=df2, x=df2['Displacement'],bins=10)\n",
    "    plt.xticks(fontsize=15, rotation=90)\n",
    "    plt.yticks(fontsize=15)\n",
    "    plt.xlabel(\"Displacement\", fontsize=15)\n",
    "    plt.ylabel('Cars Count', fontsize=15);\n",
    "    \n",
    "    #ARAI milage vs Price\n",
    "    \n",
    "    #sorting displacement column\n",
    "    df3 = df1.sort_values('ARAI_Certified_Mileage', ascending=True)\n",
    "    \n",
    "    plt.figure(figsize=(45,10))\n",
    "    plt.title('Ex-Showroom Price v/s ARAI Certified Milage', fontsize=20)\n",
    "    a=sns.scatterplot(data=df3, x=df3.ARAI_Certified_Mileage, y=df3.Ex_Showroom_Price, hue = df3.Fuel_Type, s=100);\n",
    "    plt.xticks(rotation=90)\n",
    "    plt.yticks(fontsize=15)\n",
    "    plt.xlabel(\"ARAI_Certified_Mileage\", fontsize=15)\n",
    "    plt.ylabel(\"Ex_Showroom_Price\", fontsize=15);\n",
    "    \n",
    "    #City milage vs Price\n",
    "    \n",
    "    #sorting displacement column\n",
    "    df4 = df1.sort_values('City_Mileage', ascending=True)\n",
    "    \n",
    "    plt.figure(figsize=(35,10))\n",
    "    plt.title('Ex-Showroom Price v/s City Milage', fontsize=20)\n",
    "    a=sns.scatterplot(data=df4, x=df4.City_Mileage, y=df4.Ex_Showroom_Price, hue = df4.Fuel_Type, s=100);\n",
    "    plt.xticks(fontsize=12,rotation=90)\n",
    "    plt.yticks(fontsize=15)\n",
    "    plt.xlabel(\"City_Mileage\", fontsize=15)\n",
    "    plt.ylabel(\"Ex_Showroom_Price\", fontsize=15);\n",
    "    \n",
    "    #Highway milage vs Price\n",
    "    \n",
    "    #sorting displacement column\n",
    "    df5 = df1.sort_values('Highway_Mileage', ascending=True)\n",
    "    \n",
    "    plt.figure(figsize=(35,10))\n",
    "    plt.title('Ex-Showroom Price v/s Highay Milage', fontsize=20)\n",
    "    a=sns.scatterplot(data=df5, x=df5.Highway_Mileage, y=df5.Ex_Showroom_Price, hue =df5.Fuel_Type, s=100);\n",
    "    plt.xticks(fontsize=15,rotation=90)\n",
    "    plt.yticks(fontsize=15)\n",
    "    plt.xlabel(\"Highway_Mileage\", fontsize=15)\n",
    "    plt.ylabel(\"Ex_Showroom_Price\", fontsize=15);\n",
    "    \n",
    "    #Rear Brake v/s Price\n",
    "    plt.figure(figsize=(15,10))\n",
    "    sns.scatterplot(data=df1, y=df1.Rear_Brakes, x=df1.Ex_Showroom_Price, hue =df1.Rear_Brakes, s=100);\n",
    "    plt.xticks(fontsize=15, rotation=45)\n",
    "    plt.yticks(fontsize=15)\n",
    "    plt.ylabel(\"Rear Brakes Type\", size=15)\n",
    "    plt.xlabel(\"Ex-Showroom Price\", size=15);\n",
    "    \n",
    "    #Front Brake v/s Price\n",
    "    plt.figure(figsize=(15,10))\n",
    "    sns.scatterplot(data=df1, y=df1.Front_Brakes, x=df1.Ex_Showroom_Price, hue =df1.Front_Brakes, s=100);\n",
    "    plt.xticks(fontsize=15, rotation=45)\n",
    "    plt.yticks(fontsize=15)\n",
    "    plt.ylabel(\"Front Brakes Type\", size=15)\n",
    "    plt.xlabel(\"Ex-Showroom Price\", size=15);\n",
    "    \n",
    "    return()"
   ]
  },
  {
   "cell_type": "markdown",
   "id": "f9bd82a5",
   "metadata": {},
   "source": [
    "# Analysing data for cars having price below 12L"
   ]
  },
  {
   "cell_type": "code",
   "execution_count": null,
   "id": "277cac42",
   "metadata": {},
   "outputs": [],
   "source": [
    "# Passing low_range_df data frame as argument to \"charts\" function\n",
    "\n",
    "charts(low_range_df);"
   ]
  },
  {
   "cell_type": "markdown",
   "id": "d7c1f113",
   "metadata": {},
   "source": [
    "# Analysing data for cars having price between 12L to 40L"
   ]
  },
  {
   "cell_type": "code",
   "execution_count": null,
   "id": "5de3d746",
   "metadata": {},
   "outputs": [],
   "source": [
    "# Passing mid_range_df data frame as argument to \"charts\" function\n",
    "\n",
    "charts(mid_range_df);"
   ]
  },
  {
   "cell_type": "markdown",
   "id": "bf76b4c3",
   "metadata": {},
   "source": [
    "# Analysing data for cars having price between 40L to 1Cr"
   ]
  },
  {
   "cell_type": "code",
   "execution_count": null,
   "id": "4c67520e",
   "metadata": {},
   "outputs": [],
   "source": [
    "# Passing premium_range_df data frame as argument to \"charts\" function\n",
    "\n",
    "charts(premium_range_df);"
   ]
  },
  {
   "cell_type": "markdown",
   "id": "c84d2407",
   "metadata": {},
   "source": [
    "# Analysing data for cars having price more than 1Cr"
   ]
  },
  {
   "cell_type": "code",
   "execution_count": null,
   "id": "b3f2e316",
   "metadata": {},
   "outputs": [],
   "source": [
    "# Passing luxury_df data frame as argument to \"charts\" function\n",
    "\n",
    "charts(luxury_df);"
   ]
  },
  {
   "cell_type": "markdown",
   "id": "ebdecbdb",
   "metadata": {},
   "source": [
    "# Analysing whole dataset"
   ]
  },
  {
   "cell_type": "code",
   "execution_count": null,
   "id": "e8ab4c27",
   "metadata": {},
   "outputs": [],
   "source": [
    "# Passing cars_df data frame as argument to \"charts\" function\n",
    "\n",
    "charts(cars_df);"
   ]
  },
  {
   "cell_type": "code",
   "execution_count": null,
   "id": "5201844f",
   "metadata": {},
   "outputs": [],
   "source": [
    "pip freeze > requirements.txt"
   ]
  },
  {
   "cell_type": "code",
   "execution_count": null,
   "id": "a0f3e5e9",
   "metadata": {},
   "outputs": [],
   "source": [
    "print(\"Thank you for analysis...\")"
   ]
  }
 ],
 "metadata": {
  "kernelspec": {
   "display_name": "Python 3 (ipykernel)",
   "language": "python",
   "name": "python3"
  },
  "language_info": {
   "codemirror_mode": {
    "name": "ipython",
    "version": 3
   },
   "file_extension": ".py",
   "mimetype": "text/x-python",
   "name": "python",
   "nbconvert_exporter": "python",
   "pygments_lexer": "ipython3",
   "version": "3.10.4"
  }
 },
 "nbformat": 4,
 "nbformat_minor": 5
}
